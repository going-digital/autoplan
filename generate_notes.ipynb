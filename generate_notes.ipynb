{
 "cells": [
  {
   "cell_type": "markdown",
   "metadata": {},
   "source": [
    "# Generate planning notes\n",
    "This script generates automatic notes in preparation for a planning meeting.\n",
    "To generate new notes:\n",
    "\n",
    "    1.Edit the reference_list below with references for each application, in agenda order.\n",
    "    2.Alter the 'output_file' if required.\n",
    "    3.Run the script with Kernel > Restart and Run All\n",
    "    4.The output file will be generated. A progress bar will show at the bottom of the page, followed by 'Script complete'."
   ]
  },
  {
   "cell_type": "code",
   "execution_count": null,
   "metadata": {},
   "outputs": [],
   "source": [
    "# Import libraries used\n",
    "import tqdm\n",
    "import planning_portal\n",
    "import jinja2\n",
    "import datetime"
   ]
  },
  {
   "cell_type": "markdown",
   "metadata": {},
   "source": [
    "Edit the box below."
   ]
  },
  {
   "cell_type": "code",
   "execution_count": null,
   "metadata": {},
   "outputs": [],
   "source": [
    "meeting_date = datetime.date(2019, 6, 11)  # Year, month, date format\n",
    "reference_list = [\n",
    "    'DC/19/2160/FUL',\n",
    "    'DC/19/2247/FUL',\n",
    "    'DC/19/2322/FUL',\n",
    "    'DC/19/2335/VOC',\n",
    "    'DC/19/2209/FUL',\n",
    "    'DC/19/2245/FUL',\n",
    "    'DC/19/2269/FUL',\n",
    "    'DC/19/2082/LBC',\n",
    "    'DC/19/2347/COU',\n",
    "    'DC/19/2167/FUL',\n",
    "    'DC/19/2339/FUL',\n",
    "    'DC/19/2415/FUL',\n",
    "    'DC/19/2382/FUL',\n",
    "]\n",
    "output_file = \"plan190625.html\""
   ]
  },
  {
   "cell_type": "code",
   "execution_count": null,
   "metadata": {},
   "outputs": [],
   "source": [
    "p = planning_portal.Planning()\n",
    "\n",
    "applications = {}\n",
    "\n",
    "run_date = datetime.datetime.now()\n",
    "\n",
    "# Fetch applications\n",
    "for reference in tqdm.tqdm(\n",
    "    reference_list, desc='Fetching applications', ascii=True\n",
    "):\n",
    "    applications[reference] = p.get_application(reference)\n",
    "\n",
    "# Build report\n",
    "templateLoader = jinja2.FileSystemLoader(searchpath='./')\n",
    "templateEnv = jinja2.Environment(loader=templateLoader)\n",
    "TEMPLATE_FILE = 'template.html.j2'\n",
    "template = templateEnv.get_template(TEMPLATE_FILE)\n",
    "outputText = template.render(\n",
    "    title='Planning notes',\n",
    "    parish='Lowestoft',\n",
    "    run_date=run_date,\n",
    "    meeting_date=meeting_date,\n",
    "    applications=applications,\n",
    ")\n",
    "with open(output_file, 'w') as f:\n",
    "    f.write(outputText)\n",
    "print('Script complete')"
   ]
  }
 ],
 "metadata": {
  "kernelspec": {
   "display_name": "Python 3",
   "language": "python",
   "name": "python3"
  },
  "language_info": {
   "codemirror_mode": {
    "name": "ipython",
    "version": 3
   },
   "file_extension": ".py",
   "mimetype": "text/x-python",
   "name": "python",
   "nbconvert_exporter": "python",
   "pygments_lexer": "ipython3",
   "version": "3.7.3"
  }
 },
 "nbformat": 4,
 "nbformat_minor": 2
}
